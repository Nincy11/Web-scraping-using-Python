{
 "cells": [
  {
   "cell_type": "code",
   "execution_count": 3,
   "metadata": {},
   "outputs": [
    {
     "name": "stdout",
     "output_type": "stream",
     "text": [
      "<div class=\"tombstone-container\">\n",
      " <p class=\"period-name\">\n",
      "  Tonight\n",
      "  <br/>\n",
      "  <br/>\n",
      " </p>\n",
      " <p>\n",
      "  <img alt=\"Tonight: Partly cloudy, with a low around 56. West southwest wind around 5 mph becoming calm  in the evening. \" class=\"forecast-icon\" src=\"newimages/medium/nsct.png\" title=\"Tonight: Partly cloudy, with a low around 56. West southwest wind around 5 mph becoming calm  in the evening. \"/>\n",
      " </p>\n",
      " <p class=\"short-desc\">\n",
      "  Partly Cloudy\n",
      " </p>\n",
      " <p class=\"temp temp-low\">\n",
      "  Low: 56 °F\n",
      " </p>\n",
      "</div>\n"
     ]
    }
   ],
   "source": [
    "import requests\n",
    "from bs4 import BeautifulSoup\n",
    "page = requests.get(\"http://forecast.weather.gov/MapClick.php?lat=37.7772&lon=-122.4168\")\n",
    "soup = BeautifulSoup(page.content, 'html.parser')\n",
    "seven_day = soup.find(id=\"seven-day-forecast\")\n",
    "forecast_items = seven_day.find_all(class_=\"tombstone-container\")\n",
    "tonight = forecast_items[0]\n",
    "print(tonight.prettify())"
   ]
  },
  {
   "cell_type": "code",
   "execution_count": 4,
   "metadata": {},
   "outputs": [
    {
     "name": "stdout",
     "output_type": "stream",
     "text": [
      "Tonight\n",
      "Partly Cloudy\n",
      "Low: 56 °F\n"
     ]
    }
   ],
   "source": [
    "period = tonight.find(class_=\"period-name\").get_text()\n",
    "short_desc = tonight.find(class_=\"short-desc\").get_text()\n",
    "temp = tonight.find(class_=\"temp\").get_text()\n",
    "print(period)\n",
    "print(short_desc)\n",
    "print(temp)"
   ]
  },
  {
   "cell_type": "code",
   "execution_count": 5,
   "metadata": {},
   "outputs": [
    {
     "name": "stdout",
     "output_type": "stream",
     "text": [
      "Tonight: Partly cloudy, with a low around 56. West southwest wind around 5 mph becoming calm  in the evening. \n"
     ]
    }
   ],
   "source": [
    "img = tonight.find(\"img\")\n",
    "desc = img['title']\n",
    "print(desc)\n"
   ]
  },
  {
   "cell_type": "code",
   "execution_count": null,
   "metadata": {},
   "outputs": [],
   "source": []
  },
  {
   "cell_type": "code",
   "execution_count": 6,
   "metadata": {},
   "outputs": [
    {
     "data": {
      "text/plain": [
       "['Tonight',\n",
       " 'Thursday',\n",
       " 'ThursdayNight',\n",
       " 'Friday',\n",
       " 'FridayNight',\n",
       " 'Saturday',\n",
       " 'SaturdayNight',\n",
       " 'Sunday',\n",
       " 'SundayNight']"
      ]
     },
     "execution_count": 6,
     "metadata": {},
     "output_type": "execute_result"
    }
   ],
   "source": [
    "period_tags = seven_day.select(\".tombstone-container .period-name\")\n",
    "periods = [pt.get_text() for pt in period_tags]\n",
    "periods"
   ]
  },
  {
   "cell_type": "code",
   "execution_count": null,
   "metadata": {},
   "outputs": [],
   "source": []
  },
  {
   "cell_type": "code",
   "execution_count": 8,
   "metadata": {},
   "outputs": [
    {
     "name": "stdout",
     "output_type": "stream",
     "text": [
      "['Partly Cloudy', 'Mostly Sunny', 'Partly Cloudy', 'Slight ChanceShowers', 'ChanceShowers', 'Slight ChanceShowers thenMostly Sunny', 'Slight ChanceShowers', 'Slight ChanceShowers thenSunny', 'Mostly Clear']\n",
      "['Low: 56 °F', 'High: 73 °F', 'Low: 55 °F', 'High: 62 °F', 'Low: 49 °F', 'High: 59 °F', 'Low: 50 °F', 'High: 58 °F', 'Low: 46 °F']\n",
      "['Tonight: Partly cloudy, with a low around 56. West southwest wind around 5 mph becoming calm  in the evening. ', 'Thursday: Mostly sunny, with a high near 73. Calm wind becoming west 5 to 9 mph in the afternoon. ', 'Thursday Night: Partly cloudy, with a low around 55. West wind 8 to 15 mph, with gusts as high as 20 mph. ', 'Friday: A 20 percent chance of showers.  Partly sunny, with a high near 62. West southwest wind 13 to 15 mph, with gusts as high as 20 mph.  New precipitation amounts of less than a tenth of an inch possible. ', 'Friday Night: A 40 percent chance of showers, mainly before 4am.  Mostly cloudy, with a low around 49. East southeast wind 10 to 13 mph becoming north northeast after midnight.  New precipitation amounts between a tenth and quarter of an inch possible. ', 'Saturday: A 20 percent chance of showers before 10am.  Mostly sunny, with a high near 59.', 'Saturday Night: A 20 percent chance of showers after 10pm.  Partly cloudy, with a low around 50.', 'Sunday: A slight chance of showers before 10am.  Mostly sunny, with a high near 58.', 'Sunday Night: Mostly clear, with a low around 46.']\n"
     ]
    }
   ],
   "source": [
    "short_descs = [sd.get_text() for sd in seven_day.select(\".tombstone-container .short-desc\")]\n",
    "temps = [t.get_text() for t in seven_day.select(\".tombstone-container .temp\")]\n",
    "descs = [d[\"title\"] for d in seven_day.select(\".tombstone-container img\")]\n",
    "print(short_descs)\n",
    "print(temps)\n",
    "print(descs)"
   ]
  },
  {
   "cell_type": "code",
   "execution_count": null,
   "metadata": {},
   "outputs": [],
   "source": []
  },
  {
   "cell_type": "code",
   "execution_count": 9,
   "metadata": {},
   "outputs": [
    {
     "data": {
      "text/html": [
       "<div>\n",
       "<style scoped>\n",
       "    .dataframe tbody tr th:only-of-type {\n",
       "        vertical-align: middle;\n",
       "    }\n",
       "\n",
       "    .dataframe tbody tr th {\n",
       "        vertical-align: top;\n",
       "    }\n",
       "\n",
       "    .dataframe thead th {\n",
       "        text-align: right;\n",
       "    }\n",
       "</style>\n",
       "<table border=\"1\" class=\"dataframe\">\n",
       "  <thead>\n",
       "    <tr style=\"text-align: right;\">\n",
       "      <th></th>\n",
       "      <th>period</th>\n",
       "      <th>short_desc</th>\n",
       "      <th>temp</th>\n",
       "      <th>desc</th>\n",
       "    </tr>\n",
       "  </thead>\n",
       "  <tbody>\n",
       "    <tr>\n",
       "      <th>0</th>\n",
       "      <td>Tonight</td>\n",
       "      <td>Partly Cloudy</td>\n",
       "      <td>Low: 56 °F</td>\n",
       "      <td>Tonight: Partly cloudy, with a low around 56. ...</td>\n",
       "    </tr>\n",
       "    <tr>\n",
       "      <th>1</th>\n",
       "      <td>Thursday</td>\n",
       "      <td>Mostly Sunny</td>\n",
       "      <td>High: 73 °F</td>\n",
       "      <td>Thursday: Mostly sunny, with a high near 73. C...</td>\n",
       "    </tr>\n",
       "    <tr>\n",
       "      <th>2</th>\n",
       "      <td>ThursdayNight</td>\n",
       "      <td>Partly Cloudy</td>\n",
       "      <td>Low: 55 °F</td>\n",
       "      <td>Thursday Night: Partly cloudy, with a low arou...</td>\n",
       "    </tr>\n",
       "    <tr>\n",
       "      <th>3</th>\n",
       "      <td>Friday</td>\n",
       "      <td>Slight ChanceShowers</td>\n",
       "      <td>High: 62 °F</td>\n",
       "      <td>Friday: A 20 percent chance of showers.  Partl...</td>\n",
       "    </tr>\n",
       "    <tr>\n",
       "      <th>4</th>\n",
       "      <td>FridayNight</td>\n",
       "      <td>ChanceShowers</td>\n",
       "      <td>Low: 49 °F</td>\n",
       "      <td>Friday Night: A 40 percent chance of showers, ...</td>\n",
       "    </tr>\n",
       "    <tr>\n",
       "      <th>5</th>\n",
       "      <td>Saturday</td>\n",
       "      <td>Slight ChanceShowers thenMostly Sunny</td>\n",
       "      <td>High: 59 °F</td>\n",
       "      <td>Saturday: A 20 percent chance of showers befor...</td>\n",
       "    </tr>\n",
       "    <tr>\n",
       "      <th>6</th>\n",
       "      <td>SaturdayNight</td>\n",
       "      <td>Slight ChanceShowers</td>\n",
       "      <td>Low: 50 °F</td>\n",
       "      <td>Saturday Night: A 20 percent chance of showers...</td>\n",
       "    </tr>\n",
       "    <tr>\n",
       "      <th>7</th>\n",
       "      <td>Sunday</td>\n",
       "      <td>Slight ChanceShowers thenSunny</td>\n",
       "      <td>High: 58 °F</td>\n",
       "      <td>Sunday: A slight chance of showers before 10am...</td>\n",
       "    </tr>\n",
       "    <tr>\n",
       "      <th>8</th>\n",
       "      <td>SundayNight</td>\n",
       "      <td>Mostly Clear</td>\n",
       "      <td>Low: 46 °F</td>\n",
       "      <td>Sunday Night: Mostly clear, with a low around 46.</td>\n",
       "    </tr>\n",
       "  </tbody>\n",
       "</table>\n",
       "</div>"
      ],
      "text/plain": [
       "          period                             short_desc         temp  \\\n",
       "0        Tonight                          Partly Cloudy   Low: 56 °F   \n",
       "1       Thursday                           Mostly Sunny  High: 73 °F   \n",
       "2  ThursdayNight                          Partly Cloudy   Low: 55 °F   \n",
       "3         Friday                   Slight ChanceShowers  High: 62 °F   \n",
       "4    FridayNight                          ChanceShowers   Low: 49 °F   \n",
       "5       Saturday  Slight ChanceShowers thenMostly Sunny  High: 59 °F   \n",
       "6  SaturdayNight                   Slight ChanceShowers   Low: 50 °F   \n",
       "7         Sunday         Slight ChanceShowers thenSunny  High: 58 °F   \n",
       "8    SundayNight                           Mostly Clear   Low: 46 °F   \n",
       "\n",
       "                                                desc  \n",
       "0  Tonight: Partly cloudy, with a low around 56. ...  \n",
       "1  Thursday: Mostly sunny, with a high near 73. C...  \n",
       "2  Thursday Night: Partly cloudy, with a low arou...  \n",
       "3  Friday: A 20 percent chance of showers.  Partl...  \n",
       "4  Friday Night: A 40 percent chance of showers, ...  \n",
       "5  Saturday: A 20 percent chance of showers befor...  \n",
       "6  Saturday Night: A 20 percent chance of showers...  \n",
       "7  Sunday: A slight chance of showers before 10am...  \n",
       "8  Sunday Night: Mostly clear, with a low around 46.  "
      ]
     },
     "execution_count": 9,
     "metadata": {},
     "output_type": "execute_result"
    }
   ],
   "source": [
    "import pandas as pd\n",
    "weather = pd.DataFrame({\n",
    "    \"period\": periods,\n",
    "    \"short_desc\": short_descs,\n",
    "    \"temp\": temps,\n",
    "    \"desc\":descs\n",
    "})\n",
    "weather"
   ]
  },
  {
   "cell_type": "code",
   "execution_count": 18,
   "metadata": {},
   "outputs": [],
   "source": [
    "weather.to_csv('weather.csv', index=False, encoding='utf-8')"
   ]
  },
  {
   "cell_type": "code",
   "execution_count": null,
   "metadata": {},
   "outputs": [],
   "source": []
  }
 ],
 "metadata": {
  "kernelspec": {
   "display_name": "Python 3",
   "language": "python",
   "name": "python3"
  },
  "language_info": {
   "codemirror_mode": {
    "name": "ipython",
    "version": 3
   },
   "file_extension": ".py",
   "mimetype": "text/x-python",
   "name": "python",
   "nbconvert_exporter": "python",
   "pygments_lexer": "ipython3",
   "version": "3.7.6"
  }
 },
 "nbformat": 4,
 "nbformat_minor": 4
}
